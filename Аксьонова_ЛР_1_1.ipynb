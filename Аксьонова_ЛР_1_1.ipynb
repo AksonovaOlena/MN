{
  "nbformat": 4,
  "nbformat_minor": 0,
  "metadata": {
    "colab": {
      "provenance": [],
      "authorship_tag": "ABX9TyPOkv+gsB3PSaAndcewlnSw",
      "include_colab_link": true
    },
    "kernelspec": {
      "name": "python3",
      "display_name": "Python 3"
    },
    "language_info": {
      "name": "python"
    }
  },
  "cells": [
    {
      "cell_type": "markdown",
      "metadata": {
        "id": "view-in-github",
        "colab_type": "text"
      },
      "source": [
        "<a href=\"https://colab.research.google.com/github/AksonovaOlena/MN/blob/main/%D0%90%D0%BA%D1%81%D1%8C%D0%BE%D0%BD%D0%BE%D0%B2%D0%B0_%D0%9B%D0%A0_1_1.ipynb\" target=\"_parent\"><img src=\"https://colab.research.google.com/assets/colab-badge.svg\" alt=\"Open In Colab\"/></a>"
      ]
    },
    {
      "cell_type": "code",
      "execution_count": 4,
      "metadata": {
        "id": "P8xgMxqch1jX"
      },
      "outputs": [],
      "source": [
        "import numpy as np"
      ]
    },
    {
      "cell_type": "code",
      "source": [
        "#1  Створіть одновимірний масив (вектор) з першими 10-ма натуральними числами та виведіть його значення.\n",
        "vector = np.arange(1,11)\n",
        "print(vector)"
      ],
      "metadata": {
        "colab": {
          "base_uri": "https://localhost:8080/"
        },
        "id": "aq0sErXahcnx",
        "outputId": "7a6f35a7-6346-49a8-8b04-00df68aeb574"
      },
      "execution_count": 3,
      "outputs": [
        {
          "output_type": "stream",
          "name": "stdout",
          "text": [
            "[ 1  2  3  4  5  6  7  8  9 10]\n"
          ]
        }
      ]
    },
    {
      "cell_type": "code",
      "source": [
        "#2 Створіть двовимірний масив (матрицю) розміром 4x4, заповніть його одиницями та виведіть його значення.\n",
        "m_sqr_arr = np.array([[1,1,1,1],[1,1,1,1],[1,1,1,1],[1,1,1,1]])\n",
        "print(\"Матриця розміром 4x4:\")\n",
        "print(m_sqr_arr)"
      ],
      "metadata": {
        "colab": {
          "base_uri": "https://localhost:8080/"
        },
        "id": "YmLGmGyah6c5",
        "outputId": "0922f7f3-c0f4-46da-acaa-1a2b06f1ed5f"
      },
      "execution_count": 9,
      "outputs": [
        {
          "output_type": "stream",
          "name": "stdout",
          "text": [
            "Матриця розміром 4x4:\n",
            "[[1 1 1 1]\n",
            " [1 1 1 1]\n",
            " [1 1 1 1]\n",
            " [1 1 1 1]]\n"
          ]
        }
      ]
    },
    {
      "cell_type": "code",
      "source": [
        "#3 Створіть масив розміром 4x4, заповніть його випадковими цілими числами в діапазоні від 1 до 5 та виведіть його значення.\n",
        "matrix = np.random.randint(6,size=(4,4))\n",
        "print(matrix)"
      ],
      "metadata": {
        "colab": {
          "base_uri": "https://localhost:8080/"
        },
        "id": "rKuU82tTjFkh",
        "outputId": "71dc1495-486c-4df4-9623-67b39af4955c"
      },
      "execution_count": 10,
      "outputs": [
        {
          "output_type": "stream",
          "name": "stdout",
          "text": [
            "[[4 4 2 2]\n",
            " [5 5 3 1]\n",
            " [1 4 3 2]\n",
            " [0 4 3 0]]\n"
          ]
        }
      ]
    },
    {
      "cell_type": "code",
      "source": [
        "#4 Створіть масив розміром 3x3, заповніть його випадковими дійсними числами в діапазоні від 0 до 1 та виведіть його значення\n",
        "matrix = np.random.rand(3,3)\n",
        "print(matrix)"
      ],
      "metadata": {
        "colab": {
          "base_uri": "https://localhost:8080/"
        },
        "id": "SQGIDDPHj_Fp",
        "outputId": "06bdc767-abc3-44b0-85c9-efdbaf35697c"
      },
      "execution_count": 20,
      "outputs": [
        {
          "output_type": "stream",
          "name": "stdout",
          "text": [
            "[[0.59192587 0.41651677 0.10116659]\n",
            " [0.47307024 0.60148194 0.92458389]\n",
            " [0.60123324 0.55138496 0.58636133]]\n"
          ]
        }
      ]
    },
    {
      "cell_type": "code",
      "source": [
        "#5 Створіть два одновимірних масиви розміром 6, заповніть їх випадковими цілими числами в діапазоні від 1 до 20 та виконайте на них поелементні операції додавання,\n",
        "#  віднімання та множення.\n",
        "vector1 = np.random.randint(1,21,size=(6))\n",
        "vector2 =  np.random.randint(1,21,size=(6))\n",
        "print(\"Масиви:\",vector1,vector2)\n",
        "print(\"Додавання:\",vector1+vector2)\n",
        "print(\"Віднімання:\",vector1-vector2)\n",
        "print(\"Множення:\",vector1*vector2)"
      ],
      "metadata": {
        "colab": {
          "base_uri": "https://localhost:8080/"
        },
        "id": "7GNLtWC3l3ga",
        "outputId": "31601ee4-a1ee-4ce9-ae75-25f1c898b5f8"
      },
      "execution_count": 43,
      "outputs": [
        {
          "output_type": "stream",
          "name": "stdout",
          "text": [
            "Масиви: [17 11 13  9  3 19] [10 13 20 13 17  3]\n",
            "Додавання: [27 24 33 22 20 22]\n",
            "Віднімання: [  7  -2  -7  -4 -14  16]\n",
            "Множення: [170 143 260 117  51  57]\n"
          ]
        }
      ]
    },
    {
      "cell_type": "code",
      "source": [
        "#6 Створіть дві матриці 2x2, заповніть їх довільними цілими числами та знайдіть їх добуток.\n",
        "a = np.matrix([[1, 2], [3, 4]])\n",
        "b = np.matrix([[5, 6], [7, 8]])\n",
        "c = np.dot(a,b)\n",
        "print(\"Матриці: \\n\",a,\"\\n\\n\",b)\n",
        "print(\"\\n Добуток матриць:\\n\",c)"
      ],
      "metadata": {
        "colab": {
          "base_uri": "https://localhost:8080/"
        },
        "id": "mXAGVyogovOc",
        "outputId": "3e3bf24c-8923-42de-8019-596e09bf369d"
      },
      "execution_count": 69,
      "outputs": [
        {
          "output_type": "stream",
          "name": "stdout",
          "text": [
            "Матриці: \n",
            " [[1 2]\n",
            " [3 4]] \n",
            "\n",
            " [[5 6]\n",
            " [7 8]]\n",
            "\n",
            " Добуток матриць:\n",
            " [[19 22]\n",
            " [43 50]]\n"
          ]
        }
      ]
    },
    {
      "cell_type": "code",
      "source": [
        "#7 Створіть дві матриці розміром 3x2 та 2x4, заповніть їх випадковими цілими числами в діапазоні від 1 до 10 та перемножте їх між собою.\n",
        "matrix1 = np.random.randint(1,11,size=(3,2))\n",
        "matrix2 = np.random.randint(1,11,size=(2,4))\n",
        "m=np.dot(matrix1,matrix2)\n",
        "print(\"Матриці: \\n\",matrix1,\"\\n\\n\",matrix2)\n",
        "print(\"\\nДобуток: \\n\",m)"
      ],
      "metadata": {
        "colab": {
          "base_uri": "https://localhost:8080/"
        },
        "id": "U_-M1qSUsnnc",
        "outputId": "f804a919-e411-40b8-d1ef-494e1167e42f"
      },
      "execution_count": 81,
      "outputs": [
        {
          "output_type": "stream",
          "name": "stdout",
          "text": [
            "Матриці: \n",
            " [[ 7  7]\n",
            " [ 7 10]\n",
            " [ 2  4]] \n",
            "\n",
            " [[ 1  5  3  6]\n",
            " [10  4  8  2]]\n",
            "\n",
            "Добуток: \n",
            " [[ 77  63  77  56]\n",
            " [107  75 101  62]\n",
            " [ 42  26  38  20]]\n"
          ]
        }
      ]
    },
    {
      "cell_type": "code",
      "source": [
        "#8 Створіть матрицю розміром 2x2, заповніть її випадковими цілими числами в діапазоні від 1 до 7 та знайдіть її обернену матрицю.\n",
        "matrix = np.random.randint(1,8,size=(2,2))\n",
        "matrix_inv = np.linalg.inv(matrix)\n",
        "print(matrix)\n",
        "print(\"\\n\",matrix_inv)"
      ],
      "metadata": {
        "colab": {
          "base_uri": "https://localhost:8080/"
        },
        "id": "bEu1D_gYwOFc",
        "outputId": "5b6b6848-7992-4259-bb2d-bb158af0859b"
      },
      "execution_count": 84,
      "outputs": [
        {
          "output_type": "stream",
          "name": "stdout",
          "text": [
            "[[3 7]\n",
            " [1 4]]\n",
            "\n",
            " [[ 0.8 -1.4]\n",
            " [-0.2  0.6]]\n"
          ]
        }
      ]
    },
    {
      "cell_type": "code",
      "source": [
        "#9 Створіть матрицю розміром 3x3, заповніть її випадковими дійсними числами в діапазоні від 0 до 1 та транспонуйте її.\n",
        "matrix = np.random.rand(3,3)\n",
        "m_t = matrix.transpose()\n",
        "print(matrix)\n",
        "print(\"\\nТранспонована матриця:\\n\")\n",
        "print(m_t)"
      ],
      "metadata": {
        "colab": {
          "base_uri": "https://localhost:8080/"
        },
        "id": "mE0ShK1oxxqE",
        "outputId": "46739fa4-4bcd-4c74-d395-be530887268c"
      },
      "execution_count": 92,
      "outputs": [
        {
          "output_type": "stream",
          "name": "stdout",
          "text": [
            "[[0.99534737 0.81541842 0.60360221]\n",
            " [0.97867494 0.05466765 0.23212907]\n",
            " [0.59516331 0.25337204 0.32311737]]\n",
            "\n",
            "Транспонована матриця:\n",
            "\n",
            "[[0.99534737 0.97867494 0.59516331]\n",
            " [0.81541842 0.05466765 0.25337204]\n",
            " [0.60360221 0.23212907 0.32311737]]\n"
          ]
        }
      ]
    },
    {
      "cell_type": "code",
      "source": [
        "#10 Створіть матрицю розміром 3x4 та вектор розміром 4x1, заповніть їх випадковими цілими числами в діапазоні від 1 до 10 та знайдіть добуток матриці на вектор.\n",
        "matrix = np.random.randint(1,11,size=(3,4))\n",
        "vector = np.random.randint(1,11,size=(4))\n",
        "m = np.dot(matrix,vector)\n",
        "print(matrix)\n",
        "print(\"\\n\",vector)\n",
        "print(\"\\n Добуток: \\n\",m)\n"
      ],
      "metadata": {
        "colab": {
          "base_uri": "https://localhost:8080/"
        },
        "id": "ocvtVNiZzUTt",
        "outputId": "1521c62a-8f9d-45a2-a76e-96f6268aedf4"
      },
      "execution_count": 107,
      "outputs": [
        {
          "output_type": "stream",
          "name": "stdout",
          "text": [
            "[[ 4  3  5  4]\n",
            " [ 8  2  8 10]\n",
            " [ 3  1  5  8]]\n",
            "\n",
            " [2 1 1 2]\n",
            "\n",
            " Добуток: \n",
            " [24 46 28]\n"
          ]
        }
      ]
    },
    {
      "cell_type": "code",
      "source": [
        "#11 Створіть матрицю розміром 2x3 та вектор розміром 3x1, заповніть матрицю випадковими цілими числами в діапазоні від 1 до 10, а вектор - випадковими цілими\n",
        "#числами в діапазоні від 1 до 10, і знайдіть добуток матриці на вектор.\n",
        "matrix = np.random.randint(1,11,size=(2,3))\n",
        "vector = np.random.randint(1,11,size=(3))\n",
        "m = np.dot(matrix,vector)\n",
        "print(matrix)\n",
        "print(\"\\n\",vector)\n",
        "print(\"\\n Добуток: \\n\",m)"
      ],
      "metadata": {
        "colab": {
          "base_uri": "https://localhost:8080/"
        },
        "id": "NCzN-ZSr_omA",
        "outputId": "6a9f1b44-8482-4fef-ebc0-ad2c9f717d40"
      },
      "execution_count": 108,
      "outputs": [
        {
          "output_type": "stream",
          "name": "stdout",
          "text": [
            "[[ 5  7 10]\n",
            " [ 2 10  4]]\n",
            "\n",
            " [7 7 4]\n",
            "\n",
            " Добуток: \n",
            " [124 100]\n"
          ]
        }
      ]
    },
    {
      "cell_type": "code",
      "source": [
        "#12 Створіть дві матриці розміром 2x2, заповніть їх випадковими цілими числами в діапазоні від 1 до 10 та знайдіть їхню суму\n",
        "matrix1 = np.random.randint(1,11,size=(2,2))\n",
        "matrix2 = np.random.randint(1,11,size=(2,2))\n",
        "print(\"Матриці:\\n\",matrix1)\n",
        "print(\"\\n\",matrix2)\n",
        "print(\"\\nСума:\\n\",matrix1+matrix2)"
      ],
      "metadata": {
        "colab": {
          "base_uri": "https://localhost:8080/"
        },
        "id": "MV9D2stZHryA",
        "outputId": "97deb2f3-b65d-49af-e8f7-0d0d263026b1"
      },
      "execution_count": 112,
      "outputs": [
        {
          "output_type": "stream",
          "name": "stdout",
          "text": [
            "Матриці:\n",
            " [[ 7  6]\n",
            " [10  9]]\n",
            "\n",
            " [[ 9  1]\n",
            " [10  8]]\n",
            "\n",
            "Сума:\n",
            " [[16  7]\n",
            " [20 17]]\n"
          ]
        }
      ]
    },
    {
      "cell_type": "code",
      "source": [
        "#13 Створіть дві матриці розміром 2x2, заповніть їх випадковими дійсними числами в діапазоні від 0 до 1 та знайдіть їх добуток.\n",
        "matrix1 = np.random.rand(2,2)\n",
        "matrix2 = np.random.rand(2,2)\n",
        "m = np.dot(matrix1,matrix2)\n",
        "print(\"Матриці:\\n\",matrix1)\n",
        "print(\"\\n\",matrix2)\n",
        "print(\"\\n Добуток:\\n\",m)"
      ],
      "metadata": {
        "colab": {
          "base_uri": "https://localhost:8080/"
        },
        "id": "EAZN1eFANfra",
        "outputId": "09d04124-55cd-438c-829f-4197cc0213f2"
      },
      "execution_count": 115,
      "outputs": [
        {
          "output_type": "stream",
          "name": "stdout",
          "text": [
            "Матриці:\n",
            " [[0.5003948  0.09090276]\n",
            " [0.19430431 0.56021787]]\n",
            "\n",
            " [[0.1005008  0.95522684]\n",
            " [0.44643341 0.32665617]]\n",
            "\n",
            " Добуток:\n",
            " [[0.09087211 0.50768449]\n",
            " [0.26962771 0.36860331]]\n"
          ]
        }
      ]
    },
    {
      "cell_type": "code",
      "source": [
        "#14 Створіть матрицю розміром 5x5, заповніть її випадковими дійсними числами в діапазоні від 0 до 1 та знайдіть суму елементів матриці.\n",
        "matrix = np.random.rand(5,5)\n",
        "print(\"Матриця:\\n\",matrix)\n",
        "print(\"\\n Сума:\\n\",matrix.sum())"
      ],
      "metadata": {
        "colab": {
          "base_uri": "https://localhost:8080/"
        },
        "id": "mdvpQR-FPvYz",
        "outputId": "0498f732-279c-4065-9d39-01fe92e71439"
      },
      "execution_count": 118,
      "outputs": [
        {
          "output_type": "stream",
          "name": "stdout",
          "text": [
            "Матриця:\n",
            " [[0.79831721 0.27764506 0.41366355 0.34158201 0.55162377]\n",
            " [0.60171849 0.91873396 0.12711787 0.69872966 0.18820281]\n",
            " [0.79921334 0.30701242 0.62321576 0.93734889 0.70997313]\n",
            " [0.05116256 0.10911795 0.11225816 0.70855884 0.97453469]\n",
            " [0.72698264 0.45017501 0.57299771 0.13321408 0.1290825 ]]\n",
            "\n",
            " Сума:\n",
            " 12.262182060451705\n"
          ]
        }
      ]
    },
    {
      "cell_type": "code",
      "source": [
        "#15 Створіть матрицю розміром 3x3, заповніть її випадковими дійсними числами в діапазоні від -1 до 1 та знайдіть вектор-стовпчик, що містить суму елементів кожного рядка матриці.\n",
        "matrix = np.random.uniform(-1,1,size=(3,3))\n",
        "vector = np.array([matrix[0].sum(),matrix[1].sum(),matrix[2].sum()])\n",
        "print(\"Матриця:\\n\",matrix)\n",
        "print(\"\\nСума:\\n\",vector.T)\n"
      ],
      "metadata": {
        "colab": {
          "base_uri": "https://localhost:8080/"
        },
        "id": "o2QPE5tRRNoT",
        "outputId": "74c49af8-6187-4024-e609-f27ac092b32f"
      },
      "execution_count": 125,
      "outputs": [
        {
          "output_type": "stream",
          "name": "stdout",
          "text": [
            "Матриця:\n",
            " [[-0.67266163 -0.63124184 -0.7455255 ]\n",
            " [-0.12471159  0.52225187  0.89922005]\n",
            " [ 0.89722725 -0.07116932  0.45626698]]\n",
            "\n",
            "Сума:\n",
            " [-2.04942897  1.29676033  1.28232491]\n"
          ]
        }
      ]
    }
  ]
}